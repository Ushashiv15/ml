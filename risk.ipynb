{
 "cells": [
  {
   "cell_type": "code",
   "execution_count": 1,
   "id": "15a6cbb1",
   "metadata": {},
   "outputs": [
    {
     "data": {
      "text/html": [
       "<div>\n",
       "<style scoped>\n",
       "    .dataframe tbody tr th:only-of-type {\n",
       "        vertical-align: middle;\n",
       "    }\n",
       "\n",
       "    .dataframe tbody tr th {\n",
       "        vertical-align: top;\n",
       "    }\n",
       "\n",
       "    .dataframe thead th {\n",
       "        text-align: right;\n",
       "    }\n",
       "</style>\n",
       "<table border=\"1\" class=\"dataframe\">\n",
       "  <thead>\n",
       "    <tr style=\"text-align: right;\">\n",
       "      <th></th>\n",
       "      <th>index</th>\n",
       "      <th>income</th>\n",
       "      <th>recreation</th>\n",
       "      <th>status</th>\n",
       "      <th>risk</th>\n",
       "    </tr>\n",
       "  </thead>\n",
       "  <tbody>\n",
       "    <tr>\n",
       "      <th>0</th>\n",
       "      <td>0</td>\n",
       "      <td>m</td>\n",
       "      <td>sk</td>\n",
       "      <td>single</td>\n",
       "      <td>high</td>\n",
       "    </tr>\n",
       "    <tr>\n",
       "      <th>1</th>\n",
       "      <td>1</td>\n",
       "      <td>h</td>\n",
       "      <td>golf</td>\n",
       "      <td>me</td>\n",
       "      <td>low</td>\n",
       "    </tr>\n",
       "    <tr>\n",
       "      <th>2</th>\n",
       "      <td>2</td>\n",
       "      <td>l</td>\n",
       "      <td>sw</td>\n",
       "      <td>me</td>\n",
       "      <td>med</td>\n",
       "    </tr>\n",
       "    <tr>\n",
       "      <th>3</th>\n",
       "      <td>3</td>\n",
       "      <td>m</td>\n",
       "      <td>fb</td>\n",
       "      <td>single</td>\n",
       "      <td>low</td>\n",
       "    </tr>\n",
       "    <tr>\n",
       "      <th>4</th>\n",
       "      <td>4</td>\n",
       "      <td>h</td>\n",
       "      <td>fy</td>\n",
       "      <td>me</td>\n",
       "      <td>high</td>\n",
       "    </tr>\n",
       "    <tr>\n",
       "      <th>5</th>\n",
       "      <td>5</td>\n",
       "      <td>l</td>\n",
       "      <td>fb</td>\n",
       "      <td>single</td>\n",
       "      <td>med</td>\n",
       "    </tr>\n",
       "    <tr>\n",
       "      <th>6</th>\n",
       "      <td>6</td>\n",
       "      <td>m</td>\n",
       "      <td>golf</td>\n",
       "      <td>single</td>\n",
       "      <td>med</td>\n",
       "    </tr>\n",
       "    <tr>\n",
       "      <th>7</th>\n",
       "      <td>7</td>\n",
       "      <td>m</td>\n",
       "      <td>golf</td>\n",
       "      <td>me</td>\n",
       "      <td>low</td>\n",
       "    </tr>\n",
       "    <tr>\n",
       "      <th>8</th>\n",
       "      <td>8</td>\n",
       "      <td>h</td>\n",
       "      <td>sk</td>\n",
       "      <td>single</td>\n",
       "      <td>high</td>\n",
       "    </tr>\n",
       "    <tr>\n",
       "      <th>9</th>\n",
       "      <td>9</td>\n",
       "      <td>l</td>\n",
       "      <td>golf</td>\n",
       "      <td>me</td>\n",
       "      <td>high</td>\n",
       "    </tr>\n",
       "  </tbody>\n",
       "</table>\n",
       "</div>"
      ],
      "text/plain": [
       "   index income recreation  status  risk\n",
       "0      0      m         sk  single  high\n",
       "1      1      h       golf      me   low\n",
       "2      2      l         sw      me   med\n",
       "3      3      m         fb  single   low\n",
       "4      4      h         fy      me  high\n",
       "5      5      l         fb  single   med\n",
       "6      6      m       golf  single   med\n",
       "7      7      m       golf      me   low\n",
       "8      8      h         sk  single  high\n",
       "9      9      l       golf      me  high"
      ]
     },
     "execution_count": 1,
     "metadata": {},
     "output_type": "execute_result"
    }
   ],
   "source": [
    "import pandas as pd\n",
    "r=pd.read_csv('risk.csv')\n",
    "r"
   ]
  },
  {
   "cell_type": "code",
   "execution_count": 2,
   "id": "2fd4b4dc",
   "metadata": {},
   "outputs": [],
   "source": [
    "tr=len(r)"
   ]
  },
  {
   "cell_type": "code",
   "execution_count": 3,
   "id": "15ded0a2",
   "metadata": {},
   "outputs": [
    {
     "data": {
      "text/plain": [
       "10"
      ]
     },
     "execution_count": 3,
     "metadata": {},
     "output_type": "execute_result"
    }
   ],
   "source": [
    "tr"
   ]
  },
  {
   "cell_type": "code",
   "execution_count": 5,
   "id": "23f2883d",
   "metadata": {},
   "outputs": [
    {
     "data": {
      "text/plain": [
       "4"
      ]
     },
     "execution_count": 5,
     "metadata": {},
     "output_type": "execute_result"
    }
   ],
   "source": [
    "golf=len(r[r['recreation']=='golf'])\n",
    "golf"
   ]
  },
  {
   "cell_type": "code",
   "execution_count": 6,
   "id": "a75b1ca0",
   "metadata": {},
   "outputs": [
    {
     "data": {
      "text/plain": [
       "3"
      ]
     },
     "execution_count": 6,
     "metadata": {},
     "output_type": "execute_result"
    }
   ],
   "source": [
    "mr=len(r[r['risk']=='med'])\n",
    "mr"
   ]
  },
  {
   "cell_type": "code",
   "execution_count": 13,
   "id": "69ddf447",
   "metadata": {},
   "outputs": [
    {
     "data": {
      "text/plain": [
       "2"
      ]
     },
     "execution_count": 13,
     "metadata": {},
     "output_type": "execute_result"
    }
   ],
   "source": [
    "mrs=len(r[(r['risk']=='med')&(r['status']=='single')])\n",
    "mrs"
   ]
  },
  {
   "cell_type": "code",
   "execution_count": 14,
   "id": "9a34b271",
   "metadata": {},
   "outputs": [
    {
     "data": {
      "text/plain": [
       "0.4"
      ]
     },
     "execution_count": 14,
     "metadata": {},
     "output_type": "execute_result"
    }
   ],
   "source": [
    "pg=golf/tr\n",
    "pg"
   ]
  },
  {
   "cell_type": "code",
   "execution_count": 15,
   "id": "ec4e88f1",
   "metadata": {},
   "outputs": [
    {
     "data": {
      "text/plain": [
       "0.2"
      ]
     },
     "execution_count": 15,
     "metadata": {},
     "output_type": "execute_result"
    }
   ],
   "source": [
    "pmrs=mrs/tr\n",
    "pmrs"
   ]
  },
  {
   "cell_type": "code",
   "execution_count": 19,
   "id": "93582453",
   "metadata": {},
   "outputs": [
    {
     "data": {
      "text/plain": [
       "0.6666666666666667"
      ]
     },
     "execution_count": 19,
     "metadata": {},
     "output_type": "execute_result"
    }
   ],
   "source": [
    "cp=pmrs/pm\n",
    "cp"
   ]
  },
  {
   "cell_type": "code",
   "execution_count": 18,
   "id": "86aced67",
   "metadata": {},
   "outputs": [
    {
     "data": {
      "text/plain": [
       "0.3"
      ]
     },
     "execution_count": 18,
     "metadata": {},
     "output_type": "execute_result"
    }
   ],
   "source": [
    "pm=mr/tr\n",
    "pm"
   ]
  },
  {
   "cell_type": "code",
   "execution_count": 21,
   "id": "0d226341",
   "metadata": {},
   "outputs": [
    {
     "name": "stdout",
     "output_type": "stream",
     "text": [
      "probability of staus being single above given risk is medrisk:  0.667\n"
     ]
    }
   ],
   "source": [
    "print('probability of staus being single above given risk is medrisk: ',round(cp,3))"
   ]
  },
  {
   "cell_type": "code",
   "execution_count": null,
   "id": "14e6fc32",
   "metadata": {},
   "outputs": [],
   "source": []
  }
 ],
 "metadata": {
  "kernelspec": {
   "display_name": "Python 3 (ipykernel)",
   "language": "python",
   "name": "python3"
  },
  "language_info": {
   "codemirror_mode": {
    "name": "ipython",
    "version": 3
   },
   "file_extension": ".py",
   "mimetype": "text/x-python",
   "name": "python",
   "nbconvert_exporter": "python",
   "pygments_lexer": "ipython3",
   "version": "3.11.5"
  }
 },
 "nbformat": 4,
 "nbformat_minor": 5
}
